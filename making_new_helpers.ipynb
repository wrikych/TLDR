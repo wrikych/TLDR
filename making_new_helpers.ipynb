{
 "cells": [
  {
   "cell_type": "markdown",
   "metadata": {},
   "source": [
    "Repository of all helper functions in the algorithm and what they do as I put together the final file \n"
   ]
  },
  {
   "cell_type": "markdown",
   "metadata": {},
   "source": [
    "Imports:"
   ]
  },
  {
   "cell_type": "code",
   "execution_count": 30,
   "metadata": {},
   "outputs": [],
   "source": [
    "## Imports and Stop Word \n",
    "from nltk.cluster.util import cosine_distance\n",
    "import bs4 as bs\n",
    "import urllib.request\n",
    "import re\n",
    "import nltk\n",
    "import nltk.tokenize\n",
    "from nltk.corpus import stopwords\n",
    "from nltk.tokenize import sent_tokenize, word_tokenize\n",
    "import heapq\n",
    "import math\n",
    "import numpy as np\n",
    "import networkx as nx \n",
    "\n",
    "## For now\n",
    "from helpers import *\n",
    "stop_words = set(stopwords.words('english'))"
   ]
  },
  {
   "cell_type": "markdown",
   "metadata": {},
   "source": [
    "Pull Text from Wikipedia:"
   ]
  },
  {
   "cell_type": "code",
   "execution_count": 27,
   "metadata": {},
   "outputs": [],
   "source": [
    "def pull_text_or_link(article_text, wiki_link = False):\n",
    "    \n",
    "    ## Read in article\n",
    "    if wiki_link:\n",
    "        scraped_data = urllib.request.urlopen(article_text)\n",
    "        article = scraped_data.read()\n",
    "        parsed_article = bs.BeautifulSoup(article,'lxml')\n",
    "        paragraphs = parsed_article.find_all('p')\n",
    "        article_text = \"\"\n",
    "        \n",
    "        for p in paragraphs:\n",
    "            article_text += p.text\n",
    "        \n",
    "        article_text = re.sub(r'\\[[0-9]*\\]', ' ', article_text)\n",
    "        article_text = re.sub(r'\\s+', ' ', article_text) # Remove extra space\n",
    "        \n",
    "        formatted_article_text = re.sub('[^a-zA-Z]', ' ', article_text)\n",
    "        formatted_article_text = re.sub(r'\\s+', ' ', formatted_article_text)\n",
    "    else:\n",
    "        ## Remove everything else \n",
    "        formatted_article_text = re.sub('[^a-zA-Z]', ' ', article_text)\n",
    "        formatted_article_text = re.sub(r'\\s+', ' ', formatted_article_text)\n",
    "\n",
    "    return formatted_article_text, article_text"
   ]
  },
  {
   "cell_type": "code",
   "execution_count": 18,
   "metadata": {},
   "outputs": [],
   "source": [
    "test1_file = open('test.txt','r')\n",
    "test1 = test1_file.read()\n",
    "test1_file.close()"
   ]
  },
  {
   "cell_type": "code",
   "execution_count": 9,
   "metadata": {},
   "outputs": [],
   "source": [
    "test2 = 'https://en.wikipedia.org/wiki/India'"
   ]
  },
  {
   "cell_type": "code",
   "execution_count": null,
   "metadata": {},
   "outputs": [],
   "source": [
    "test1"
   ]
  },
  {
   "cell_type": "code",
   "execution_count": 20,
   "metadata": {},
   "outputs": [],
   "source": [
    "test1 = re.sub(r'\\[[0-9]*\\]', ' ', test1)\n",
    "test1 = re.sub(r'\\s+', ' ', test1)"
   ]
  },
  {
   "cell_type": "code",
   "execution_count": 23,
   "metadata": {},
   "outputs": [],
   "source": [
    "fart_test1, art_test1 = pull_text_or_link(test1)"
   ]
  },
  {
   "cell_type": "code",
   "execution_count": 28,
   "metadata": {},
   "outputs": [],
   "source": [
    "fart_test2, art_test2 = pull_text_or_link(test2, wiki_link=True)"
   ]
  },
  {
   "cell_type": "markdown",
   "metadata": {},
   "source": [
    "Get word freq, and sentence list"
   ]
  },
  {
   "cell_type": "code",
   "execution_count": 31,
   "metadata": {},
   "outputs": [],
   "source": [
    "def sentence_tokenize(formatted_article_text, article_text, stop_words = stop_words):\n",
    "    \n",
    "    ## Tokenize the sentences in the OG article text, initialize stopwords\n",
    "    sentence_list = nltk.sent_tokenize(article_text)\n",
    "    word_frequencies = {} # A dictionary of words and how often they show up \n",
    "\n",
    "    ## Fill up word_freq dict with (you guessed it) word frequencies\n",
    "    for word in nltk.word_tokenize(formatted_article_text):\n",
    "        if word not in stop_words:\n",
    "            if word not in word_frequencies.keys():\n",
    "                word_frequencies[word] = 1\n",
    "            else:\n",
    "                word_frequencies[word] += 1\n",
    "    return word_frequencies, sentence_list"
   ]
  },
  {
   "cell_type": "code",
   "execution_count": 32,
   "metadata": {},
   "outputs": [],
   "source": [
    "wf1, sl1 = sentence_tokenize(fart_test1, art_test1)"
   ]
  },
  {
   "cell_type": "code",
   "execution_count": 35,
   "metadata": {},
   "outputs": [],
   "source": [
    "wf2, sl2 = sentence_tokenize(fart_test2, art_test2)"
   ]
  },
  {
   "cell_type": "code",
   "execution_count": 38,
   "metadata": {},
   "outputs": [],
   "source": [
    "def idf_variables(sent_list, word_freq):\n",
    "    word_idf = {}\n",
    "    for word in word_freq.keys():\n",
    "        word_idf[word] = idf(sent_list, word_freq[word])\n",
    "    sent_broken = [sent_tokenize(sent) for sent in sent_list]\n",
    "    sent_cleaned = [word_tokenize(str(sent)) for sent in sent_broken]\n",
    "    \n",
    "    return word_idf, sent_cleaned"
   ]
  },
  {
   "cell_type": "code",
   "execution_count": 39,
   "metadata": {},
   "outputs": [],
   "source": [
    "wf_idf1, sc1 = idf_variables(sl1, wf1)"
   ]
  },
  {
   "cell_type": "code",
   "execution_count": 41,
   "metadata": {},
   "outputs": [],
   "source": [
    "def cosine_similarity(sent1, sent2, word_idf):\n",
    "        \n",
    "    all_words = list(set(sent1 + sent2))\n",
    "    vector1 = [0] * len(all_words)\n",
    "    vector2 = [0] * len(all_words)\n",
    "    \n",
    "    for word in sent1:\n",
    "        if word in word_idf.keys():\n",
    "            vector1[all_words.index(word)] += word_idf[word]\n",
    "    \n",
    "    for word in sent2:\n",
    "        if word in word_idf.keys():\n",
    "            vector2[all_words.index(word)] += word_idf[word]\n",
    "    \n",
    "    return 1 - cosine_distance(vector1, vector2)"
   ]
  },
  {
   "cell_type": "code",
   "execution_count": 47,
   "metadata": {},
   "outputs": [],
   "source": [
    "def score_sentences(sent_cleaned, word_idf):\n",
    "    similarity_matrix= np.zeros((len(sent_cleaned), len(sent_cleaned)))\n",
    "    for idx1 in range(len(sent_cleaned)):\n",
    "        for idx2 in range(len(sent_cleaned)):\n",
    "            if idx1 == idx2:\n",
    "                continue\n",
    "            similarity_matrix[idx1][idx2] = cosine_similarity(sent_cleaned[idx1], sent_cleaned[idx2], word_idf)\n",
    "    similarity_graph = nx.from_numpy_array(similarity_matrix)\n",
    "    scores = nx.pagerank(similarity_graph)\n",
    "    return scores\n",
    "        "
   ]
  },
  {
   "cell_type": "code",
   "execution_count": null,
   "metadata": {},
   "outputs": [],
   "source": [
    "# scores = nx.pagerank(similarity_graph)"
   ]
  },
  {
   "cell_type": "code",
   "execution_count": 46,
   "metadata": {},
   "outputs": [],
   "source": [
    "wf2_idf2, sc2 = idf_variables(sl2, wf2)"
   ]
  },
  {
   "cell_type": "code",
   "execution_count": 48,
   "metadata": {},
   "outputs": [],
   "source": [
    "scores2 = score_sentences(sc2, wf2_idf2)"
   ]
  },
  {
   "cell_type": "code",
   "execution_count": 56,
   "metadata": {},
   "outputs": [],
   "source": [
    "## Sort Top N IDF Values\n",
    "def top_n(scores, sent_list, num_sents):\n",
    "    all_idx = list(scores.keys())\n",
    "    all_sents = [sent_list[idx] for idx in all_idx]\n",
    "    all_stats = list(scores.values())\n",
    "    final_sents = []\n",
    "    top_idx = list(np.argsort(all_stats)[-1*num_sents:])\n",
    "    top_idx.sort()\n",
    "    for idx in top_idx:\n",
    "        final_sents.append(all_sents[idx])\n",
    "    return final_sents"
   ]
  },
  {
   "cell_type": "code",
   "execution_count": 53,
   "metadata": {},
   "outputs": [],
   "source": [
    "all_idx2 = list(scores2.keys())"
   ]
  },
  {
   "cell_type": "code",
   "execution_count": 54,
   "metadata": {},
   "outputs": [],
   "source": [
    "all_sents2 = [sl2[idx] for idx in all_idx2]"
   ]
  },
  {
   "cell_type": "code",
   "execution_count": 58,
   "metadata": {},
   "outputs": [],
   "source": [
    "final_sents2 = top_n(scores2, sl2, 25)"
   ]
  },
  {
   "cell_type": "code",
   "execution_count": 59,
   "metadata": {},
   "outputs": [
    {
     "data": {
      "text/plain": [
       "[\"India's population grew from 361 million in 1951 to 1.211 billion in 2011.\",\n",
       " 'The earliest known modern human remains in South Asia date to about 30,000 years ago.',\n",
       " 'These gradually developed into the Indus Valley Civilisation, the first urban culture in South Asia, which flourished during 2500–1900 BCE in what is now Pakistan and western India.',\n",
       " 'By the 4th and 5th centuries, the Gupta Empire had created a complex system of administration and taxation in the greater Ganges Plain; this system became a model for later Indian kingdoms.',\n",
       " 'The Indian early medieval age, from 600 to 1200 CE, is defined by regional kingdoms and cultural diversity.',\n",
       " 'Embracing a strong Shaivite tradition and building upon the military technology of the sultanate, the empire came to control much of peninsular India, and was to influence South Indian society for long afterwards.',\n",
       " 'By this time, with its economic power severely curtailed by the British parliament and having effectively been made an arm of British administration, the East India Company began more consciously to enter non-economic arenas, including education, social reform and culture.',\n",
       " 'In the decades following, public life gradually emerged all over India, leading eventually to the founding of the Indian National Congress in 1885.',\n",
       " \"India's defining geological processes began 75 million years ago when the Indian Plate, then part of the southern supercontinent Gondwana, began a north-eastward drift caused by seafloor spreading to its south-west, and later, south and south-east.\",\n",
       " 'A parliamentary republic with a multi-party system, it has eight recognised national parties, including the Indian National Congress and the Bharatiya Janata Party (BJP), and more than 40 regional parties.',\n",
       " 'For most of the period between 1950—when India first became a republic—and the late 1980s, the Congress held a majority in the parliament.',\n",
       " 'In the 2014 general election, the BJP became the first political party since 1984 to win a majority and govern without the support of other parties.',\n",
       " 'India\\'s form of government, traditionally described as \"quasi-federal\" with a strong centre and weak states, has grown increasingly federal since the late 1990s as a result of political, economic, and social changes.',\n",
       " \"With its average annual GDP growth rate of 5.8% over the past two decades, and reaching 6.1% during 2011–2012, India is one of the world's fastest-growing economies.\",\n",
       " 'Averaging an economic growth rate of 7.5% for several years prior to 2007, India has more than doubled its hourly wage rates during the first decade of the 21st century.',\n",
       " \"Some 431 million Indians have left poverty since 1985; India's middle classes are projected to number around 580 million by 2030.\",\n",
       " \"Driven by growth, India's nominal GDP per capita increased steadily from US$308 in 1991, when economic liberalisation began, to US$1,380 in 2010, to an estimated US$1,730 in 2016.\",\n",
       " 'The Indian biotech industry grew by 15.1% in 2012–2013, increasing its revenues from ₹204.4 billion (Indian rupees) to ₹235.24 billion (US$3.94 billion at June 2013 exchange rates).',\n",
       " 'India has a very ancient tradition of art, which has exchanged many influences with the rest of Eurasia, especially in the first millennium, when Buddhist art spread with Indian religions to Central, East and South-East Asia, the last also greatly influenced by Hindu art.',\n",
       " 'In the first millennium CE, Buddhist art spread with Indian religions to Central, East and South-East Asia, the last also greatly influenced by Hindu art.',\n",
       " 'In the 19th century, cheap Kalighat paintings of gods and everyday life, done on paper, were urban folk art from Calcutta, which later saw the Bengal School of Art, reflecting the art colleges founded by the British, the first movement in modern Indian painting.',\n",
       " 'The Indian caste system embodies much of the social stratification and many of the social restrictions found on the Indian subcontinent.',\n",
       " \"The education system of India is the world's second-largest.\",\n",
       " \"The appearance of ahimsa, or the avoidance of violence toward all forms of life in many religious orders early in Indian history, especially Upanishadic Hinduism, Buddhism and Jainism, is thought to have contributed to the predominance of vegetarianism among a large segment of India's Hindu population, especially in southern India, Gujarat, the Hindi-speaking belt of north-central India, as well as among Jains.\",\n",
       " 'Unlike China, which has increased its per capita meat consumption substantially in its years of increased economic growth, in India the strong dietary traditions have contributed to dairy, rather than meat, becoming the preferred form of animal protein consumption.']"
      ]
     },
     "execution_count": 59,
     "metadata": {},
     "output_type": "execute_result"
    }
   ],
   "source": [
    "wf2_idf2, sc2 = idf_variables(sl2, wf2)"
   ]
  },
  {
   "cell_type": "code",
   "execution_count": 61,
   "metadata": {},
   "outputs": [],
   "source": [
    "scores1 = score_sentences(sc1, wf_idf1)"
   ]
  },
  {
   "cell_type": "code",
   "execution_count": 66,
   "metadata": {},
   "outputs": [],
   "source": [
    "final_sents1 = top_n(scores1, sl1, 25)"
   ]
  },
  {
   "cell_type": "code",
   "execution_count": 67,
   "metadata": {},
   "outputs": [
    {
     "data": {
      "text/plain": [
       "['because of the rapid passage of large amounts of indigestible plant material through the short, straight digestive tract.',\n",
       " 'It is also noted, however, that such rapid passage of digesta limits the potential of microbial digestion in the gastrointestinal tract, limiting alternative forms of digestion.',\n",
       " 'Given this voluminous diet, the giant panda defecates up to 40 times a day.',\n",
       " \"The limited energy input imposed on it by its diet has affected the panda's behavior.\",\n",
       " 'It has been estimated that an adult panda absorbs 54.8â€“66.1â€‰mg of cyanide a day through its diet.',\n",
       " \"Two of the panda's most distinctive features, its large size and round face, are adaptations to its bamboo diet.\",\n",
       " 'Anthropologist Russell Ciochon observed: \"[much] like the vegetarian gorilla, the low body surface area to body volume [of the giant panda] is indicative of a lower metabolic rate.',\n",
       " 'This lower metabolic rate and a more sedentary lifestyle allows the giant panda to subsist on nutrient poor resources such as bamboo.\"',\n",
       " \"Similarly, the giant panda's round face is the result of powerful jaw muscles, which attach from the top of the head to the jaw.\",\n",
       " 'Large molars crush and grind fibrous plant material.',\n",
       " 'The morphological characteristics of extinct relatives of the giant panda suggest that while the ancient giant panda was omnivorous 7 million years ago (mya), it only became herbivorous some 2â€“2.4 mya with the emergence of A. microta.',\n",
       " 'Genome sequencing of the giant panda suggests that the dietary switch could have initiated from the loss of the sole T1R1/T1R3 umami taste receptor, resulting from two frameshift mutations within the T1R1 exons.',\n",
       " 'Umami taste corresponds to high levels of glutamate as found in meat and may have thus altered the food choice of the giant panda.',\n",
       " 'Although the pseudogenisation of the umami taste receptor in Ailuropoda coincides with the dietary switch to herbivory, it is likely a result of, and not the reason for, the dietary change.',\n",
       " 'The mutation time for the T1R1 gene in the giant panda is estimated to 4.2 mya while fossil evidence indicates bamboo consumption in the giant panda species at least 7 mya, signifying that although complete herbivory occurred around 2 mya, the dietary switch was initiated prior to T1R1 loss-of-function.',\n",
       " 'Pandas eat any of 25 bamboo species in the wild, such as Fargesia dracocephala and Fargesia rufa.',\n",
       " 'Only a few bamboo species are widespread at the high altitudes pandas now inhabit.',\n",
       " 'Bamboo leaves contain the highest protein levels; stems have less.',\n",
       " 'Because of the synchronous flowering, death, and regeneration of all bamboo within a species, the giant panda must have at least two different species available in its range to avoid starvation.',\n",
       " 'While primarily herbivorous, the giant panda still retains decidedly ursine teeth and will eat meat, fish, and eggs when available.',\n",
       " \"In captivity, zoos typically maintain the giant panda's bamboo diet, though some will provide specially formulated biscuits or other dietary supplements.\",\n",
       " 'For six years, scientists studied six pandas tagged with GPS collars at the Foping Reserve in the Qinling Mountains.',\n",
       " 'The pandas would move from the valleys into the Qinling Mountains and would only return to the valleys in autumn.',\n",
       " 'During the summer months, bamboo shoots rich in protein are only available at higher altitudes which causes low calcium rates in the pandas.',\n",
       " 'During breeding season, the pandas would return to lower altitudes to eat bamboo leaves rich in calcium.']"
      ]
     },
     "execution_count": 67,
     "metadata": {},
     "output_type": "execute_result"
    }
   ],
   "source": [
    "final_sents1"
   ]
  },
  {
   "cell_type": "code",
   "execution_count": null,
   "metadata": {},
   "outputs": [],
   "source": []
  }
 ],
 "metadata": {
  "kernelspec": {
   "display_name": "Python 3.8.8 ('base')",
   "language": "python",
   "name": "python3"
  },
  "language_info": {
   "codemirror_mode": {
    "name": "ipython",
    "version": 3
   },
   "file_extension": ".py",
   "mimetype": "text/x-python",
   "name": "python",
   "nbconvert_exporter": "python",
   "pygments_lexer": "ipython3",
   "version": "3.8.8"
  },
  "orig_nbformat": 4,
  "vscode": {
   "interpreter": {
    "hash": "56cd9e4e3bac71cab370ea6f48b0f777035e10dffe3ec952494887881b9660fe"
   }
  }
 },
 "nbformat": 4,
 "nbformat_minor": 2
}
